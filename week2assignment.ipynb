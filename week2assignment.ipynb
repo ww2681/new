{
 "cells": [
  {
   "cell_type": "markdown",
   "id": "15a44f61",
   "metadata": {},
   "source": [
    "# Load wordlists"
   ]
  },
  {
   "cell_type": "code",
   "execution_count": 90,
   "id": "41e3a232",
   "metadata": {},
   "outputs": [
    {
     "name": "stdout",
     "output_type": "stream",
     "text": [
      "<class 'list'>\n",
      "['the', 'be', 'of', 'and', 'a', 'in', 'to', 'have', 'that', 'to', 'for', 'it', 'with', 'on', 'he', 'as', 'at', 'this', 'by', 'I', 'not', 'do', 'but', 'from', 'you', 'or', 'his', 'they', 'which', 'we', 'their', 'say', 'would', 'up', 'make', 'one', 'if', 'will', 'all', 'when', 'can', 'who', 'so', 'she', 'time', 'take', 'go', 'some', 'out', 'there', 'what', 'could', 'into', 'year', 'get', 'no', 'see', 'than', 'her', 'about', 'know', 'as', 'other', 'its', 'then', 'my', 'come', 'also', 'these', 'any', 'two', 'now', 'good', 'give', 'just', 'use', 'more', 'only', 'people', 'our', 'well', 'way', 'find', 'like', 'may', 'very', 'new', 'should', 'more', 'after', 'think', 'look', 'how', 'even', 'day', 'because', 'where', 'over', 'your', 'first']\n",
      "100\n"
     ]
    }
   ],
   "source": [
    "f = open(\"/Users/wennawang/Desktop/TC-1ST/A&L5090/100_band.txt\", \"r\")\n",
    "band_1k = f.read()\n",
    "f.close()\n",
    "band_1k = band_1k.split()\n",
    "print(type(band_1k))\n",
    "print(band_1k)\n",
    "print(len(band_1k))"
   ]
  },
  {
   "cell_type": "code",
   "execution_count": 91,
   "id": "a9ff171e",
   "metadata": {},
   "outputs": [
    {
     "name": "stdout",
     "output_type": "stream",
     "text": [
      "<class 'list'>\n",
      "['through', 'between', 'those', 'many', 'man', 'want', 'such', 'before', 'still', 'too', 'tell', 'back', 'work', 'life', 'own', 'become', 'need', 'great', 'thing', 'same', 'here', 'work', 'leave', 'part', 'three', 'show', 'might', 'last', 'there', 'seem', 'another', 'must', 'while', 'most', 'each', 'much', 'under', 'every', 'place', 'ask', 'feel', 'again', 'call', 'however', 'high', 'never', 'all', 'number', 'without', 'put', 'about', 'world', 'few', 'try', 'hand', 'case', 'keep', 'home', 'follow', 'old', 'why', 'against', 'always', 'something', 'mean', 'small', 'bring', 'since', 'child', 'different', 'point', 'turn', 'within', 'little', 'most', 'include', 'provide', 'large', 'during', 'next', 'fact', 'end', 'problem', 'week', 'help', 'start', 'area', 'hold', 'course', 'really', 'group', 'house', 'set', 'country', 'long', 'month', 'although', 'woman', 'begin', 'run']\n",
      "100\n"
     ]
    }
   ],
   "source": [
    "f = open(\"/Users/wennawang/Desktop/TC-1ST/A&L5090/200_band.txt\", \"r\")\n",
    "band_2k = f.read()\n",
    "f.close()\n",
    "band_2k = band_2k.split()\n",
    "print(type(band_2k))\n",
    "print(band_2k)\n",
    "print(len(band_2k))"
   ]
  },
  {
   "cell_type": "code",
   "execution_count": 92,
   "id": "53001c34",
   "metadata": {},
   "outputs": [
    {
     "name": "stdout",
     "output_type": "stream",
     "text": [
      "<class 'list'>\n",
      "['down', 'both', 'off', 'head', 'far', 'system', 'often', 'away', 'service', 'question', 'live', 'allow', 'write', 'lead', 'word', 'family', 'important', 'already', 'side', 'move', 'possible', 'order', 'much', 'young', 'meet', 'no', 'until', 'pay', 'yet', 'play', 'result', 'school', 'idea', 'almost', 'government', 'member', 'believe', 'together', 'once', 'level', 'consider', 'like', 'nothing', 'eye', 'hear', 'reason', 'stand', 'whether', 'local', 'four', 'later', 'able', 'change', 'form', 'though', 'quite', 'night', 'use', 'name', 'information', 'happen', 'around', 'remain', 'money', 'change', 'business', 'line', 'ever', 'full', 'rather', 'power', 'carry', 'friend', 'company', 'let', 'add', 'water', 'expect', 'appear', 'early', 'effect', 'both', 'towards', 'hour', 'offer', 'interest', 'himself', 'book', 'room', 'body', 'perhaps', 'kind', 'of', 'so', 'state', 'today', 'fall', 'suggest', 'continue', 'term', 'other']\n",
      "101\n"
     ]
    }
   ],
   "source": [
    "f = open(\"/Users/wennawang/Desktop/TC-1ST/A&L5090/300_band.txt\", \"r\")\n",
    "band_3k = f.read()\n",
    "f.close()\n",
    "band_3k = band_3k.split()\n",
    "band_3k = [word.replace('(','').replace(')','') for word in band_3k]\n",
    "print(type(band_3k))\n",
    "print(band_3k)\n",
    "print(len(band_3k))"
   ]
  },
  {
   "cell_type": "markdown",
   "id": "cc4a7375",
   "metadata": {},
   "source": [
    "# Identify text to process"
   ]
  },
  {
   "cell_type": "code",
   "execution_count": 93,
   "id": "78f619db",
   "metadata": {},
   "outputs": [],
   "source": [
    "import pandas as pd\n"
   ]
  },
  {
   "cell_type": "code",
   "execution_count": 94,
   "id": "cc34bf45",
   "metadata": {},
   "outputs": [
    {
     "name": "stdout",
     "output_type": "stream",
     "text": [
      "                 Timestamp  \\\n",
      "0        3/7/2014 20:13:28   \n",
      "1        3/17/2014 5:32:16   \n",
      "2       3/26/2014 21:48:43   \n",
      "3         4/3/2014 4:42:47   \n",
      "4       4/11/2014 22:49:48   \n",
      "...                    ...   \n",
      "25068   10/18/2014 4:20:49   \n",
      "25069   11/5/2014 12:45:32   \n",
      "25070  11/14/2014 14:08:54   \n",
      "25071   11/21/2014 5:45:30   \n",
      "25072    12/3/2014 5:16:56   \n",
      "\n",
      "      Please answer the following question. Write between 100 and 150 words. 다음 질문에 100~150단어 답해주십시오.  \\\n",
      "0      In Korea when people small talk to each other ...                                                \n",
      "1      I have ever been to austraila in a month. In t...                                                \n",
      "2      The 'sin sae gye' is the best movie i've ever ...                                                \n",
      "3      I think if children are allowed to watch viole...                                                \n",
      "4      If i am the manager of a hotel, i will have wa...                                                \n",
      "...                                                  ...                                                \n",
      "25068  I love many kinds of art such like music, movi...                                                \n",
      "25069  I think people are born with a preference or a...                                                \n",
      "25070  When I am 7 years old, I had my first computer...                                                \n",
      "25071  Yes. Nowadays almost everyone has a smart phon...                                                \n",
      "25072  If a cashier gave me too much change, I will g...                                                \n",
      "\n",
      "       Student number:         Class number:  Assignment #  Waiver  \\\n",
      "0             21011008   10075009 월/목 오후1:00             1       1   \n",
      "1             21011008   10075009 월/목 오후1:00             2       1   \n",
      "2             21011008   10075009 월/목 오후1:00             3       1   \n",
      "3             21011008   10075009 월/목 오후1:00             4       1   \n",
      "4             21011008   10075009 월/목 오후1:00             5       1   \n",
      "...                ...                   ...           ...     ...   \n",
      "25068        201335381  10072017 수/금 오전11:00            15       1   \n",
      "25069        201335381  10072017 수/금 오전11:00            16       1   \n",
      "25070        201335381  10072017 수/금 오전11:00            17       1   \n",
      "25071        201335381  10072017 수/금 오전11:00            18       1   \n",
      "25072        201335381  10072017 수/금 오전11:00            19       1   \n",
      "\n",
      "                Gender:  \\\n",
      "0          Male (Man) 남   \n",
      "1          Male (Man) 남   \n",
      "2          Male (Man) 남   \n",
      "3          Male (Man) 남   \n",
      "4          Male (Man) 남   \n",
      "...                 ...   \n",
      "25068  Female (Woman) 여   \n",
      "25069  Female (Woman) 여   \n",
      "25070  Female (Woman) 여   \n",
      "25071  Female (Woman) 여   \n",
      "25072  Female (Woman) 여   \n",
      "\n",
      "      Number of years you have studied English: 영어를 몇년 동안 공부하였습니까?  \\\n",
      "0                                                     12             \n",
      "1                                                     12             \n",
      "2                                                     12             \n",
      "3                                                     12             \n",
      "4                                                     12             \n",
      "...                                                  ...             \n",
      "25068                                                 12             \n",
      "25069                                                 12             \n",
      "25070                                                 12             \n",
      "25071                                                 12             \n",
      "25072                                                 12             \n",
      "\n",
      "      TOEIC Score 토익 점수 TOEFL Score 토플 점수  ...  \\\n",
      "0                   780                 x  ...   \n",
      "1                   780                 x  ...   \n",
      "2                   780                 x  ...   \n",
      "3                   780                 x  ...   \n",
      "4                   780                 x  ...   \n",
      "...                 ...               ...  ...   \n",
      "25068               720                 X  ...   \n",
      "25069               720                 X  ...   \n",
      "25070               720                 X  ...   \n",
      "25071               720                 X  ...   \n",
      "25072               720                 X  ...   \n",
      "\n",
      "      Father's native (first) language? Mother's native (first) language?  \\\n",
      "0                                Korean                            Korean   \n",
      "1                                Korean                            Korean   \n",
      "2                                Korean                            Korean   \n",
      "3                                Korean                            Korean   \n",
      "4                                Korean                            Korean   \n",
      "...                                 ...                               ...   \n",
      "25068                            Korean                            Korean   \n",
      "25069                            Korean                            Korean   \n",
      "25070                            Korean                            Korean   \n",
      "25071                            Korean                            Korean   \n",
      "25072                            Korean                            Korean   \n",
      "\n",
      "      What languages do you and your family speak in your home?  \\\n",
      "0                                                 Korean          \n",
      "1                                                 Korean          \n",
      "2                                                 Korean          \n",
      "3                                                 Korean          \n",
      "4                                                 Korean          \n",
      "...                                                  ...          \n",
      "25068                                             Korean          \n",
      "25069                                             Korean          \n",
      "25070                                             Korean          \n",
      "25071                                             Korean          \n",
      "25072                                             Korean          \n",
      "\n",
      "      What language was mostly used in your Elementary School?  \\\n",
      "0                                                 Korean         \n",
      "1                                                 Korean         \n",
      "2                                                 Korean         \n",
      "3                                                 Korean         \n",
      "4                                                 Korean         \n",
      "...                                                  ...         \n",
      "25068                                             Korean         \n",
      "25069                                             Korean         \n",
      "25070                                             Korean         \n",
      "25071                                             Korean         \n",
      "25072                                             Korean         \n",
      "\n",
      "      What language was mostly used in your Middle School?  \\\n",
      "0                                                 Korean     \n",
      "1                                                 Korean     \n",
      "2                                                 Korean     \n",
      "3                                                 Korean     \n",
      "4                                                 Korean     \n",
      "...                                                  ...     \n",
      "25068                                             Korean     \n",
      "25069                                             Korean     \n",
      "25070                                             Korean     \n",
      "25071                                             Korean     \n",
      "25072                                             Korean     \n",
      "\n",
      "      What language was mostly used in your High School?  \\\n",
      "0                                                 Korean   \n",
      "1                                                 Korean   \n",
      "2                                                 Korean   \n",
      "3                                                 Korean   \n",
      "4                                                 Korean   \n",
      "...                                                  ...   \n",
      "25068                                             Korean   \n",
      "25069                                             Korean   \n",
      "25070                                             Korean   \n",
      "25071                                             Korean   \n",
      "25072                                             Korean   \n",
      "\n",
      "      How confident are you in your ability to write in English?  \\\n",
      "0                                                      3           \n",
      "1                                                      3           \n",
      "2                                                      3           \n",
      "3                                                      3           \n",
      "4                                                      3           \n",
      "...                                                  ...           \n",
      "25068                                                  1           \n",
      "25069                                                  1           \n",
      "25070                                                  1           \n",
      "25071                                                  1           \n",
      "25072                                                  1           \n",
      "\n",
      "                         Why are you studying English? Unnamed: 25 Unnamed: 26  \n",
      "0      Fulfilling Academic Requirements 졸업조건을 충족시키기 위해         NaN         NaN  \n",
      "1      Fulfilling Academic Requirements 졸업조건을 충족시키기 위해         NaN         NaN  \n",
      "2      Fulfilling Academic Requirements 졸업조건을 충족시키기 위해         NaN         NaN  \n",
      "3      Fulfilling Academic Requirements 졸업조건을 충족시키기 위해         NaN         NaN  \n",
      "4      Fulfilling Academic Requirements 졸업조건을 충족시키기 위해         NaN         NaN  \n",
      "...                                                ...         ...         ...  \n",
      "25068                        Social Pressure 사회적 압박때문에         NaN         NaN  \n",
      "25069                        Social Pressure 사회적 압박때문에         NaN         NaN  \n",
      "25070                        Social Pressure 사회적 압박때문에         NaN         NaN  \n",
      "25071                        Social Pressure 사회적 압박때문에         NaN         NaN  \n",
      "25072                        Social Pressure 사회적 압박때문에         NaN         NaN  \n",
      "\n",
      "[25073 rows x 27 columns]\n"
     ]
    }
   ],
   "source": [
    "file_path = \"/Users/wennawang/Desktop/TC-1ST/A&L5090/Gachon Learner Corpus - Final Version.csv\"\n",
    "df = pd.read_csv(file_path)\n",
    "print(df)"
   ]
  },
  {
   "cell_type": "code",
   "execution_count": 95,
   "id": "4b0a8438",
   "metadata": {},
   "outputs": [],
   "source": [
    "df['Please answer the following question. Write between 100 and 150 words. 다음 질문에 100~150단어 답해주십시오.'] = df['Please answer the following question. Write between 100 and 150 words. 다음 질문에 100~150단어 답해주십시오.'].astype(str)\n"
   ]
  },
  {
   "cell_type": "markdown",
   "id": "72704b68",
   "metadata": {},
   "source": [
    "Q1: what's the difference among each student?"
   ]
  },
  {
   "cell_type": "code",
   "execution_count": 96,
   "id": "414501ca",
   "metadata": {
    "scrolled": true
   },
   "outputs": [
    {
     "data": {
      "text/plain": [
       "'for student_number, answers in all_answers_by_student.head(3).items():\\n    print(f\"Student number: {student_number}\")\\n    print(answers)\\n    print(\\'\\n\\')'"
      ]
     },
     "execution_count": 96,
     "metadata": {},
     "output_type": "execute_result"
    }
   ],
   "source": [
    "all_answers_by_student = df.groupby('Student number:')['Please answer the following question. Write between 100 and 150 words. 다음 질문에 100~150단어 답해주십시오.'].apply(lambda answers: ' '.join(answers))\n",
    "\n",
    "\n",
    "'''for student_number, answers in all_answers_by_student.head(3).items():\n",
    "    print(f\"Student number: {student_number}\")\n",
    "    print(answers)\n",
    "    print('\\n')'''\n",
    "\n"
   ]
  },
  {
   "cell_type": "code",
   "execution_count": 97,
   "id": "5e5c0f0c",
   "metadata": {},
   "outputs": [
    {
     "name": "stdout",
     "output_type": "stream",
     "text": [
      "In Korea when people small talk to each other they have to avoid talking about other's salary. because they think he or she wants to classify me as salary. That must be rude people think. Also people do not quest weight especially in case they are girls. korea women want to hide her secret and man have responsibillity to hide her secret. That's the korea manner even though another country's manner is. Finally professional questions have to be avoided when small talking to each other. because that's required specaility knowledge, so that each talker have burden can not lead the communication. I have ever been to austraila in a month. In there i experienced in sky diving that is very frightening to me. During about one minute, i was free flying and then about 2minutes parachute help me to fly in the sky. Especially, at the time before the jump in airplane, i was so thrilling and frightenig. It was very challenging experience to me in my life. Because this jumping experience give me courage even if i get various burdens discouraging me i can overcome that. Therefore i think i'm very proud of myself i didn't give up sky flying. The 'sin sae gye' is the best movie i've ever seen in my life. Because of two actors hwang jum min, jung woo sung who is the best actor in korea realistic acting, i was fascinated in that movie. This movie's subject is that mr.Jung who is policeman cooperate with mr.hwang for arresting his corporation however he occupy the chariman eventually. I was realized that human's opportinism can be appeared whenever. Anyway rather than the subject i like their acting though. I think if children are allowed to watch violent, they can take violence as a matter of course natullary. That is dangerous from the point of view of society because the rate of criming will be increased more and more. Besides, the children allowed to watch violent are might be confused whether violence is bad or good. I think children have to watch educational, instuctive, program so that they can be lived uprightly. It is important to allowe children what they can watch. They choose the way how to live through what they see. Therefore children have to be not allowed to watch violent movies. If i am the manager of a hotel, i will have wake up service, laundry service, mini bar service. First, wake up service is important to business mans absolutely. Because a number of guests visiting a hotel are occupied. Therefore wake up service must to be had to the hotel. Second, laundry service is basic part of hotel service. Because near the hotel there's no laundry it have to be provided to guests. Finally, mini bar service is important thing economically. Commonly, some juices, cocktails provided by hotel are more expensive than market's ones it can increase not only hotel's profits but also pleasure of guests. When i choose the hotel i will check on the mini-bar service at first.Because i want to enjoy drinking at night in the my room. I like to drink some archole.   Second i will check on the laundry service. Because i want to clean the cloths for tomorrow schedules. If my clothes get strained, i have to find laundry, but i know the possible to find laundry will be low. Third is room-service. Because i want to eat for dinner made by hotel's major chef in my room comfortably. I think Room service is essential factor of hotel. If room service is no there, that is not hotel but motel. And the greatest of them is mini-bar service. Changing driving line without turnig on a direction indicator, is most aggressive driving behavior. Because that's the rude action in driving. If i'm in the situation, i will drive with horn and mutter \"what the fuck\". It is serious situation because it can cause revenge driving to them. That would be finished by a terrible traffic accident. If you want to change your driving line, turn on a direction indicator or give driver driving behind you sign by shaking hand to direction you want i will change the line soon. It is important manner for making better life of driving culture and preventing against car accident. Recently most drivers in my city are good because of advertisement of developing manner of driving. However some others are bad drivers. Especially, bus drivers in big city drive the bus extremely so that it can cause from small car accident to big accident. Nonsan i have been living is small city in the korea. In nonsan most drivers are relaxable and good. Because there are little cars on the way in nonsan so they can drive easilly they don't need to drive extremly but they also don't observe the rule of traffic. because there are little person and cars. It is very dangerous thing to people living there. I have used BB cream  effecting my skin white and bling ling. And i usually have used sunscream because my skin can be dark easlily so i have to propect my skin from ultlaviolet. I want to be white skin but i can't be. I have no beauty care product because i am a man. Man usually use not many beauty care product. But recently many things of man's beauty products is supplying in the market. So i am interesting about beauty care products for man. I will buy about man's beauty products. My weapon improving my appearance is a hair style. Hair styled by wax bring someone feel so fascinated by looking me. Therefore i always have been careful when i'm styling my hair because i don't want to hurt girls falling in love to me. Dandy style is my strong weapon to improve my appearance. Nobody girls will not be able to reject my attraction when they look at me. Second, perfume improve my appearance. I know it will not improve my appearance directly but i assure that it will influence them judging me affirmatively. The sense of nose is important thing about judging people.\n"
     ]
    }
   ],
   "source": [
    "text_21011008 = all_answers_by_student.get(21011008,'')\n",
    "print(text_21011008)"
   ]
  },
  {
   "cell_type": "code",
   "execution_count": 98,
   "id": "2a152694",
   "metadata": {},
   "outputs": [
    {
     "name": "stdout",
     "output_type": "stream",
     "text": [
      "In Korea, lt's not polite to ask about someone's height and someone's weight. Becaus Koreans think that appearance of a person is important. So You have to avoid this topics in Korea. And In business, it's considered rude to ask about someone's age. Because I think that If people  judge others by the ages, you'll miss the other traits. In others, it's not polite to ask about someone's salary. Because you judge other's jobs by the salary.  It's rude in our culture. I Like the thrill. Expecially I like to go an amusement park. I go twice per month.  Do you know Everland? Everland is Korea amusement park . Everland is located in Gyeonggi-do youngin. Everland tikets are not cheap but I'm annual member So I can use the cheaper. I like Everland 'T-Express'. T-Express is kind of roller coaster. I think that T -Express is a wooden roller coaster at Everland. It is the world's ninth fastest, fourth tallest, and sixth longest wooden coaster. But waiting time is long. Maybe 1~2 hour so you have to make a reservation. I like to watch movies at home. movie tickets are expensive. So I usually watch movies at home. I really like thiller movies. I almost saw all of the Korea thiller movies. I like 'The Chaser' that Korea title is '추격자'. I have ever seen this movie twice. 'The Chaser' is a 2008 South Korean movie that starring Kim Yoon-seok and Ha Jung-woo. The Chaser's story is inspired by real-life Korean serial killer Yoo Young-chul. This movie is dramatic and exciting. I recommed you this movie. In my opinion children shouldn't watch violent movies. Because violent movies are not good for children. The violent movies are brutal and bloody. Violent movies make children more accepting of violence. Children are still young so they will follow violent movies and they have aggressive thoughts, emotions and behavior. For example they will fight with friends and play with fire. It is very dangerous. They might get hurt and even die. I think If you are over 19-year-old you can see violent movies. Recently It is easy to access vioient movies because of development of Internet so parents should pay attention to their children. I think Wake-up service is important. Because If you oversleep, you can miss a tour. And babysitting service is very important for family. This service gives the freedom to parents. Free airport shuttle is a necessary service. It is convenient service. Because tourists sometimes lose their way. Free Internet service is essential. You can find information about tour and make a reservation.These days, There is global world. Multilingual staffs are important. Clerks can come from all country so  Multilingual staffs serve translation service. Hotel's charges are important to me. Because I am a student now. I don't have a fixed income. So If I will stay at a hotel, for the first time, it is considered. And location is important too. I think that the most important factor is location. If Hotel is near to shoppong areas, train stations. It is convenient. And I think reviews are important. When I choosing a hotel, online reviews affect me. Because reviewers have stayed a hotel before. Therefore reviews are reliable. I can believe it. Finally Facilities and services  are important. I think that 24-hour room service and Free airport shuttle are necessary. And Free Internet service is important. While I am  traverling, I always use a Internet so I have to choose a hotel that has a Wi-Fi service without extra charge. I like to drive a car. But some drivers make me crazy. Expecially Bus drivers and Taxi drivers are very aggressively. Thay block the line. They do not yield. While driving, I see many bus drivers who lack patience for other cars who want to change lanes. so they are often swerving from lane to lane. It is very dangerous. It cause car accident. and some woman drivers and some sunday driver are irritate me. They lack experience as a driver. I try to understand them. But some woman drivers have no common sense. They orten neglect traffic signal. They are road hog. In Korea driving test is very easy. so It is easy to get a driver's license. I think It is wrong. I think driving test is become more difficult. Because Ii is related to life. I think most drivers in my city are bad drivers. Especially my apartment residents are bad drivers. My apartment's parking space is narrow so I have to be careful. One day, In the morning I went to the my car by the way my car was blocked by other cars. I was so embarrassed. I trid to find car owner's phone number but I didn't find phone number. I was so angry. \n",
      "So I asked for my apartment's security guard. We trid to find a car owner. We tried for 30minutes. and We broadcasted across the my apartment. \n",
      "Finally A car owner came out. but her attitude makes me more angry. She never said to sorry. She had an attitude of arrogance. I protest about her parked car. In the end  She apologized. But I stay angry. It is a terrible memory. Everyday I use a razor in the morning. My beard grows quickly. When I shaving I always use shaving cream. I use aftershave too. Because I have a delicate skin. Aftershave is a product that soothes and moisturizes. and I often use deodorant. Because In the summer I sweat under the arms. I sweat a lot in the summer. So I don't like summer. and I don't like sunshine. I use sunscreen that protect sunshine. And Everyday I use hairspray.  If I don't use hairspray my hair style is very strange. I think that appearance is important. So many Korean want to be pretty girl or handsome guy. I think that diet is one way.  Many people go on diets. Sometimes they even go on a harsh diet to lose weight.  Because diet makes a well-shaped face and body. I think that diet and exercise are best way to improve someone's appearance. Because It is safest way. Another way is cosmetic surgery.Many Korean want to undergo cosmetic surgery. Expecially Many girls and teenagers want to undergo cosmetic surgery to look more pretty. Indeed, Koreans are so cosmetic-surgery crazy, they try to fix everything on their faces. but I don't like this way because It is dangerous. Cosmetic surgery is for shallow and closed-minded people who think appearance are everything.  Is cosmetic surgery or extreme diet a pathwat to happiness? I think that inner beauty is imprtant.\n"
     ]
    }
   ],
   "source": [
    "text_21011016 = all_answers_by_student.get(21011016,'')\n",
    "print(text_21011016)"
   ]
  },
  {
   "cell_type": "code",
   "execution_count": 99,
   "id": "b5c0163d",
   "metadata": {},
   "outputs": [
    {
     "name": "stdout",
     "output_type": "stream",
     "text": [
      "1. Talking too personal things.\n",
      " - It is better to avoid small talk too much personal things, such as someone's height, weight, adresss, income, grade, and so on.\n",
      "\n",
      "2. Political topics\n",
      " - Korean people easily get in to fight when they talk about their own political view or sight. Even though they are good friend. So It would be better to avoid  political topics. among friend.\n",
      "\n",
      "3. About get a job, get a married.\n",
      " - It would better not talk about getting a jobs, to the people who are trying to get a job. And It would better not talk about getting a married to the people who are so called 'Gold Miss' and 'Gold Mr' 1. Going to abroad\n",
      "I have been to America when I was young(9years old) and I still can’t forget it. Everyone speaks their languages and everyone eat their foods. To a young boy, it made me to realized that there is more world I never been to and where I should go and learn. \n",
      "\n",
      "2. 2 years in the military\n",
      "Every Korean men must join the military service. I was in K.S.R(Korea Special Reconnaissance) and I had a lot of thrilling training in there. The most thrilling moments I had were helicopter rappel and 420km(262mile) overnight marching for 6 days.\n",
      "\n",
      "above 2 things my thriling or frightening actions. Fever Pitch(2005)\n",
      " This film is about a love story between carrer woman Lindsey(Drew Barrymore) and Ben(Jimmy fallon) who crazy about baseball. Drew Barrymore plays in the film as a lovely women who name is Lindsey. She thought she finally met a perfect guy in her whole life. Ben is a big fan of Boston Red Sox. All his schedule and all his mind is focus on baseball. He even breaks the appointments with Lindsey because of baseball games.\n",
      " I've seen this film over 10 times after it has released in 2005.bNot only it has funny scenes for baseball fans but women who does not know about baseball at all can watch and have an interest.\n",
      "It perfectly has something in common between love and baseball even though it doesn't look like. We should not let childeren to watch violence things for sure. they can imitiate same things without any bad intention. because children are very pure. When I young, older people always said 'you can't watch any violent movies. But nowadays many older people doesn't resist their children. Thesedays children are able to watch violent or adult stuffs easily by internet,ip- tv and so on. We must see this situation seriously and find solutions for this situation Except hotel services in the rop notch2, I will let all customers use free wiㅡfi service in every single and suite room. When i was travelling in Jordan, i felt difficult in using wiㅡfi in the hotel. And also i will have guides for people from overseas. Korea is such a beautiful country to travel. And i will make Safety boxes in every room to secure customors' belongings. When customer go out side, they put in safty box their valuable belongings.\n",
      "If I am a manager of hotel, i services this 3things. To me, free wifi service is the most important factor when I choosing a hotel.  When i was travelling in Jordan, i felf difficulty in using wifi in the hotel. because I always updated traveling-picture  in my SNS during traveling. That's why i consider free wifi when i choosing a hotel. So I went to hotel, I first ask using free wifi service .\n",
      " And also i consider travel guides for people from overseas.  Many conturies has their own  such a beautiful\n",
      " place to travel. But I can't look around everywhere. So I must need travel-guides. 'The bullet taxi' is the most hateful and agressive driving  behavior for me. We have 'the bullet taxi culture' in Korea. The word 'bullet taxies' are derived from taxies drive so fast to pick up more passengers at late night or early morning. They ignore all traffic signs, rules, and drive manners. I had experienced the bullet taxi and i almost had a car accident, because the taxi went mad.\n",
      " So we'd better drive...No! We must drive with a good driving manner Half and half I think. I usually taked taxi in my city. Most of the taxi which i used had agressive driving behaviors like speeding, traffic signal violation, honking the horn to woman, didn't wear seat-belt, etc.\n",
      " But there are many good drivers in my city also. many drivers considerate each other, When good drivers stopped at an intersection, they fell their headlight or turned off their headlight for Opposite side driver. And good drivers thinks of pedestrians as priority. Like this in my city, there are half good drivers and half bad drivers. 1.Sunscreen\n",
      "I always put sunscreen on my face, neck and arms. Sunscreen blocks ultraviolet rays and lots of reasearches say it's an antoxident(no longer aging) . That's why i put on sunscreen everyday.\n",
      " 2. Skin lotion and cream\n",
      "I read the article few dats ago says Korean men use skin lotion more than any other men in country . I also use them everyday for my skin. 1.Steady exercise\n",
      " Stedy exercise makes me better about body,health and appearance. so I go swimming and lift weight with barbells every morning (except sunday.)\n",
      "2. Plastic surgery\n",
      " I think plastic surgery is the best way for someone to improve own appearance. almost people who had plastc surgery more confident after they have plastic surgery. Even though that surgery can be dangerous, it is especially popular with young women in Korea\n"
     ]
    }
   ],
   "source": [
    "text_21011033 = all_answers_by_student.get(21011033,'')\n",
    "print(text_21011033)"
   ]
  },
  {
   "cell_type": "markdown",
   "id": "217727b8",
   "metadata": {},
   "source": [
    "Q2: what's the difference among gender?"
   ]
  },
  {
   "cell_type": "code",
   "execution_count": 106,
   "id": "da5c2151",
   "metadata": {},
   "outputs": [],
   "source": [
    "balanced_answer_byGender = {}\n",
    "\n",
    "for gender, group in df.groupby('Gender:'):\n",
    "    balanced_answer_byGender[gender] = '\\n'.join(group.head(50)['Please answer the following question. Write between 100 and 150 words. 다음 질문에 100~150단어 답해주십시오.'])\n",
    "\n"
   ]
  },
  {
   "cell_type": "code",
   "execution_count": 107,
   "id": "c03f3779",
   "metadata": {},
   "outputs": [
    {
     "name": "stdout",
     "output_type": "stream",
     "text": [
      "In korea, we can see the entertainers easily from TV who have beautiful and skinny body shape. They are always shining and take too much love for their fan. So many people are envious of them. Thus people want to slim body like a model. They try to diet for making skinny body shape, but resisting appetite and heavy exercise are very hard things. Therefore they give up diet easily and struggle with watching their weight. Nevertheless they can't put down their ideal so their diet is repeated another way. Even some people make a choice extreme measures as liposuction surgery.\n",
      "I think people are eating unhealthy foods than they used to. Today, wellbeing is top topic. So many media talk about importance of healthy food. But that healthy food is mostly formal meals and they need to take a lot of times. However many people don't have times such as enjoy that formal meals. Because the world is flow so fast, and someone don't go with the flow of world will be turned over. People had to spend a time in work to keep up with world and therefore they can’t afford. For that reason, their meal is poor and unhealthy.\n",
      "Some people like some colors in particular. It may be just taste, or especial memories of their childhood and etc. The most important point of sameness is they are come from happy feelings. Preference from feeling of happiness make some colors so special. In the same context, disliked colors may be just taste, or terrible experience of their life and etc. What they have in common is they are come from uncomfortable feelings.  Dispreference from feeling of uncomfortableness make some colors so hate. Thus I think, preference and dispreference of color are depended on the past memories or past experiences.\n",
      "Child’s development is greatly influenced by their parent’s behaviors, because the relationship with parents is a first step to the world. more younger children controlled easily by their parent’s effect. Children absorb parent’s expressions, languages, behaviors and values directly. Thus parents should be a role model to their child and make good environment of education. For example, who has a good family background probably grows up happy person. On the other hand, who has a negative family background maybe grows up unhappy person. So, parents are careful always when they are speaking to their child. If they don’t, their child will grows up bad way.\n",
      "All sorts of arts are amusing. Each of them has another attraction. Of that, calligraphy is most interesting for me. When I saw a work of calligraphy, I can feel artist’s emotion directly. Sometimes it looks like a strong lion other times it looks like a fragile rabbit. Calligraphy is a visual art related to writing. It is the design and execution of lettering with a broad tip instrument or brush in one stroke. It is not serious and is not stiff. Everyone can learn and draw easily. Of course, it takes a lot of practice to draw calligraphy well.\n",
      "I think, artistic talents is given when people was in birth. There are some popular artist in the world. They are famous as their talent. Many people are dreaming of a debut as a popular artist. So they increase their effort for success. However, despite their effort, some of them are success, some are not. It is depend on artistic talent. If two men try to develop the skill about some kind of art and one man have artistic talent, other one doesn’t. Maybe the former is better than the later. Sad to say, the later man have to find another talent.\n",
      "I had a problem with a computer. Sometimes it was light problem, sometimes it was very serious problem. I would describe the some kind of problem. First, my computer was infected by computer viruses. I only wanted to check my email, but a virus has infected the e-mail system. I didn’t know how to fix it. So I searched on the internet and found out solution. It was simple. I just used vaccine program. Second, my computer was not booting up. It made a strange sound like a beep several times and appeared the massage ‘goodbye’ on the screen. I had to visit service center.\n",
      "I didn’t have to worry about using the internet. I used the computer since I was young. So using the computer is so familiar to me. I had to search the internet when I was doing my homework, and I had to download the file from the internet when I needed music and movies. The world is getting smarter and more convenient as I got older. Now, almost object is built-in computer. They can provide information from the internet. Internet is more familiar with us as the standards of living increase and technology develops. I think few would be worried at using the internet.\n",
      "If I would receive too much change from the cashier, I will pay back the money to spare. It’s not mine. I can ignore this situation and go on for so small amount of money like a 500 won. If not, I should return the money. It is crime if I don’t return the money. Unfortunately, that is happening too often in our real life and many people may not have considered what they did to be stealing. They may think they are just lucky without considering the cashier’s situation. Maybe cashier will be in big trouble because missing money.\n",
      "I think my values are different with my parent’s. Values are made by past experiences or past memories. My life and my parent’s life are different. We live together in the house and do things together like eating, chatting, drinking and sleeping. Although we live together, we all have a different view. It could be similar but couldn’t be same. For example, If we have extra food, I will throw this into the garbage can but my mom will store in an airtight container or finish off the extra food. This different behavior is cause by a matter of opinion.\n",
      "If you talk about when they don't know each other well, you don't ask about age, height and job. Because those themes are very personal  and not polite sometimes. The other person gets into difficulty and then it's hard to take up a story. Second, you don't ask about someone's home. Because it's possible to be an economical standard of judgement. Third, religion and politics are not appropriate at small talk. Those are controvertible themes and sensitive cases.  So If you talk someone who meet first time or don't know well, be careful when choosing a subject of conversation.\n",
      "I was very thrilling, when i thought about my unknown and unseen future. Instead of worrying about that, I just keep studying my major and trying another field. And i was frightened when I heard that my cousin was gotten a car accident a couple of years ago. Fortunately he got better and better, he's good to do everything normally now. And It was so thrilling that i went bungee jumping. It was great experience of my life. But i don't want to do it again. Because it was very scary to jump at the high place.\n",
      "I saw the movie 'About Time' last year. This movie is my best movie I've ever seen. I loved Rachel McAdams, since I've seen the movie 'Notebook'. Because of her, I was interested in 'About Time'. Movie's hero and heroine are well-matched. My favorite genres are the romantic comedy and love story also. The hero of the 'About Time' can do time warp. So he could fall in love. However he got his ability, He cannot revive his father. He didn't know importance of family until his father was dead. In the end, He didn't use his ability any more. Just keep his life everyday preciously.\n",
      "I think that adults don't allow children should watch violent movies. Violent movies are not beneficial to children and people who have sensative mind. Because children do not tell apart actuality and virtuality, they don't watch violent movie. And they follow the violent action and words in actuality. So adults should keep them away from the movie. Also people who have sensative mind and the old and the weak should be careful when they watch it. If you want to watch the violent movie, watch when you are sound mind.\n",
      "If I am a manager of a hotel, I will have 24-hour room service, wake-up service, baggage service and free internet service. I experienced all of them at the hotel before. So that services were very informative to me. I oversleep often but, when I had a wake-up service, I got up at the fixed time. Thanks to baggage service, I am not tired because of loading my baggages. So It was very convenient. And There was a free internet service, I contacted with my friends at the foreign country. So I will be prepared that services at my hotel for hotel's guests.\n",
      "When I choose a hotel, I think whether it has free internet service and cleaness and acessibility to the public transportation. Free internet service is a basic option to choose a good hotel. Also cleaness and is the basic option. And if i traveled foreign country or my country, I have to use a public transportation. Because I don't have enough money as I'm a student and I don't have a driver's license. So acessibility from bus stop or a subway station is very important to choose a hotel. And then I'll consider of room's condition and expenses later. That's not big matters for me,\n",
      "I think when drivers use a cell phone while driving the car, It's very aggressive behavior indirectly to others. Using the cell phone affects drivers couldn't pay attention. Finally their attention distract that they are unable to concentrate to drive. Then the accident possibility is higher than when they don't use the cell phone. So It's aggressive behavior to the people themselves and other drivers. And when drivers tailgate or cut other car off , It could be a aggresive. So pau attention in driving is very important to every driver.\n",
      "Yes. I think most drivers in my city are good drivers. Because they park their cars in designated parking lot. And they wash the cars pretty often, so the cars could work well. And they use a real gas not a fake gas. But sometimes they deviate from an established rule. For example, they go through the sidewalk while pedestrians are walking through the sidewalk. So that is very rude and dangerous behavior. However pretty many people don't go by rule. And sometimes when the drivers are driving they call to someone not using a headphone, write the message and turn up the volume so the sound is heard another car.\n",
      "Yes, I do. I have a manicure and pedicure by myself about once a week. Because I like decorating my nails and toenails. And I like buying nail polishes to apply my nails. And I have a makeup  almost everyday not a weekend when I won't go out. I use maskpack to give a essense to my skin twice a week. It's necessay to use a foundation, mascara, eye shadow and lipstick. All of them are essential, but I have to apply lipstick and foundation from that things. Because of my flawed skin, It is necessary. And I don't have a normal lip color. Nevertheless, most people's lip color are red or pink, but I don't. And beauty products are very useful to change people more beautiful.\n",
      "I think diet and exercise are the best way to improve appearance. Because diet keeps balance as we plan what we\"ll eat. In the process, we're gonna be checking our body condition and what we have not to eat and what we have to eat to keep balance. And exercise can cost less money. Of course, If we go to fitness center or buy exercise equipment, we could cost more than we expected. But it is cheaper way than massage, facials and liposuction and so on. So I think two ways are best and most reasonable. But in addition makeup is the best way to most women.\n",
      "During small talk if we don't know each other well, I think there are some topics to avoid including salary, physical information, family, religion, politics, marriage state and so on.\n",
      "When it comes to the salary, for example, when an woman reached the age of marriageable, she wants to find a man whose income is higher than her so she ask the salary first on blind date though.\n",
      "As for the physical information, it's very unpolite to ask weight to women. Meanwhile, it's not courteous to ask \"how tall are you?\" to men as well.\n",
      "If someone ask a unknown man whose parents passed away or get divorce to tell about his family could be a mistake.\n",
      "Lastely, to talk about religion and political issues could bare an argument and bias toward to each other.\n",
      "Thus, we shouldn't talk about above topics during small talk.\n",
      "Yes, i have.\n",
      "I went to Hawaii for an international program in our school last summer vacation in July.\n",
      "There is an episodes i've faced that made me frightend during staying.\n",
      "First, on the first day after arrival i took a walk along the Waikiki beach shore line alone enjoying the night view of the beautiful stars above the horizon, the diverse lights from the hotels, and the people who seemed very excited.\n",
      "Few minutes later, i saw a guy who is muscular, tall and has threatening look passying by me. \n",
      "When we got an eye contact each other, he showed me a gesture using both hands as similar as that of \"six\" in China and said \"shaka\" simultaneously.\n",
      "Af first, i was frightened when he took the action. i thought he was tried to threaten me as a kind of racial discrimination. i ran to the dormitory right away and then explained that situation to my roomates. Fortunately, there was a friend who had been in Hawaii for a family trip in the past and she told me what the shaka means. \n",
      "After that, i realized he wanted to greet me using a widely known Hawaiian native jesture.\n",
      "Actually, I’m in the mood for action, thriller, and science fiction movies in usual and I like Hollywood films more than that of Korean. \n",
      "\n",
      "I can’t choose the best one of that movies I’ve ever seen because the story of that movies are about super hero and villain, beautiful woman and romance in common. It’s too obvious to say. Thus, I would like to tell the other genre instead. \n",
      "\n",
      "Recently, I saw an animated movie of which title is Frozen world made by Walt Disney in the theater. \n",
      "\n",
      "Elsa has a superpower which can make ice and snow. The more she has grown up, the more she can’t control the power. \n",
      "On her inauguration ceremony, she made a big mistake and cursed the world to be frozen. \n",
      "She decided to leave the palace where she has lived for entire her life and find a place to hide herself on the top of a mountain in the North. \n",
      "She built a gorgeous palace covered with ice and snow using her superpower. \n",
      "\n",
      "Anna took a long journey to find her sister, Elsa. \n",
      "While on travel, she met a Christoph who crushed on her and helped her a lot. \n",
      "She got to the frozen palace and persuaded Elsa to return to her hometown. However, Elsa didn’t accepted her solicitation. \n",
      "Even worse, she attacked Anna’s heart using the superpower.\n",
      "Surprised, Anna was going back to her hometown and she was almost dying. \n",
      "She need to be kissed by someone who sincerely loves her to survive. \n",
      "\n",
      "Prince Hans tracked her back to take Elsa to the frozen world. He planned to kill her to take the authority to govern the world after she make the curse ended.\n",
      "\n",
      "Elsa was kept in the jail and managed to escape from it. \n",
      "While she ran away, she met Anna and found her already frozen, in other words, dead. So, she sobbed and hugged her with true love. \n",
      "\n",
      "In conclusion, Anna could survive and Elsa made the frozen world back and ruled over the peaceful world with no hiding herself anymore.\n",
      "We should not allow the children to watch violent movies.\n",
      "\n",
      "It must badly influence in their personality, emotion and education.\n",
      "The biggest problem is that children are likely to repeat what adults say and copy what adults do. \n",
      "They don’t have a sense of right or wrong and unable to predict the result from their conduct.\n",
      "\n",
      "Even adults could be affected by the violent and cruel films. You may know what made Heath Andrew Ledger who is well known for Jocker in <Batman begins> to suicide himself. \n",
      "He had studied on how the Jocker say, act and kill someone and he even didn’t get out from his room for 6 weeks. He was emotionally not stable because he was already considered himself as the Jocker and didn’t want to admit the fact that. So He took antidepressants and tranquilizers and finally addicted to the drugs. Thus he draw the tragic conclusion.\n",
      "\n",
      "Then, what if let children who don’t have rational judgment yet see the same movies?\n",
      "If you are an advocator of the question, do you think still it doesn’t matter so long as the children watch the film with adults? \n",
      "If I were mom, I would never allow my kids to watch the violent, sensational, cruel, bloody which are not good for their formation of personality, educative purpose, emotion control.\n",
      "If I am the manager of a hotel, I will provide services which most guests are looking for. I think the most people prefer the hotel to be equipted with free shuttle, free wifi & wireless internet, 24hour front desk, conference center, and multilingual services. \n",
      " As for the river-side hotels, it is not convinent to get there by transportations or own vehicles. So, the free shuttle services from the nearest subway or bus station to the hotel would be very comfortable. \n",
      " These days, almost every people use their smart phones for surffing the Internet, using messengers, downloading the files and so on. so they want to get internet connections from anywhere at anytime in the hotel for free.\n",
      " 24 hour fron desk services is in deed necessary. If you have to get on a flight at 5:00 in the early morning, you probably should check out within 1-2 hours before departure. \n",
      " According to a statistic, over 30% of people visit the hotel for their business purposes. So, the conference center should have a collection of projector, screen, desk top, scanner, copier, and booking status of conference rooms for the conference could proceed smoothly.\n",
      " Such as G20 Nuclear Safety Summit which was held in Korea, Korea has accommodated many foreigners for international conferneces, tourisms, intermarriges, and empolyments. so, the multi-lingual services are needed to support their visits.\n",
      "I haven’t stayed at a hotel yet, but I’ve visited some hotels for another purposes.\n",
      "\n",
      " When I was in Hawaii in the last summer, I’ve lived in the dormitory for a month. There were tall and gorgeous hotels around our dorm, because the Waikiki beach was only 3 minutes away from our dorm.\n",
      " I took English classes at International Mid-Pacific College every weekdays, especially on Friday we went out for school activities. \n",
      " On certain Friday, we visited Sheraton Waikiki beach hotel which was two blocks behind of our dorm. We had a look around the pool, sky lounge, ball room, laundry service department, shops in the hotel, clean up department and so on.\n",
      " The most impressive thing among them was the sky lounge on the 36th floor where I could look down the beautiful view of the Waikiki beach. It was beyond description.\n",
      "\n",
      "If I choose a hotel for staying over 2 days and 1 night then, I’ll consider three things the most.\n",
      "The first one I think the most is “The view through the window in my room”.\n",
      "I might feel satisfied with the room where I can lookdown beautiful surroundings such as sea shore, mountain, diverse lights from other buildings and so on. for that reason, I prefer my room to be on higher floor than lower.\n",
      "\n",
      "The second thing is “Where the hotel is situated”\n",
      "I think the location is such important thing when choose a hotel, pension, motel and any other accommodations and it depends on the purposes of staying.\n",
      "If I have a international conferences or the major meetings then, I should find  the hotel near the conference center or meeting places in the central business area of the city.\n",
      "If I want to enjoy the water sports, then I would choose a hotel which is more closer to the beach, riverside, and stream.\n",
      "If I look for a hotel where we can go shopping for groceries, gifts, luxuries and go out for fancy meals then, the hotel should be located in the downtown.\n",
      "\n",
      "The last one is “If the hotel runs free shuttle bus from many destinations” \n",
      "When I went to Waikele premium outlet, I saw many tourists getting off the shuttle buses from the Waikiki. That outlet was truly far from the Waikiki. Although it took over 2 hours one way, many hotels in Waikiki have run free shuttle buses to get there. It must be very convenient and satisfying service.\n",
      "I don't have a driver's license yet. I should have got the license as early as possible. \n",
      "Anyway I take my father's car every weekend to go to church. My father is one of the aggressive driver who drives his car very fast. It seems like a roller coaster when I get in his car. However, I'm okay with it if he observe the traffic regulations. \n",
      "These days, most of Korean drivers are tend to be individualistic when driving, so they don't want to waste their time on the road. They drive their car fast and don't make a way for the other drivers who is in urgent situations. \n",
      "I hate drivers the most who don't yield their way to ambulances or the city buses, and express buses.\n",
      "It's natural to move out on their way for the ambulances and transportations. How could the drivers keep their way for the reason that they are busy? I can't understand at all.\n",
      "I think if drivers are good or bad depends on the road conditions.\n",
      "\n",
      "I have lived in Daejoen since I was born in 1991. Although Daejoen is one of the metropolitan city in Korea, the roads are hardly jammed with the cars. so almost everywhere, the drivers tend to be good.\n",
      "\n",
      "Except for a certain road. I had worked for 2 months at the KRIXX located right behind of the KAIST and took the commuter bus every day and night. The traffic from the KAIST to the Chungnam university blocked with many cars almost without expection in the rush our on weekdays. So the drivers on the road easily act badly. \n",
      "\n",
      "When they get stuck in traffic, they are likely to be impatient and finally became the bad drivers who cut in front of other cars, do not yield a way to the embulances and public transcportations, and swear profusely when driving.\n",
      "In my case, I have never used any beauty care services like nail care, manicure and pedicure, facial, eyelashes extension and so on. \n",
      "That's because I don't want to spend my money and effort on that kind of things. \n",
      "First, I think those are kind of waste things. It's not gonna be prolonged as much as I expected and too expensive to get a service. \n",
      "Second, I'm different from most of other girls. I don't enjoy shopping, beauty cares, cosmetices, germs, luxurious things. I would rather do my effort on self-developing things like studying, reading books, analyzing my-self, exercising, meeting people, sharing informations with senior persons, and volunteering.\n",
      "These days a lot of people care about their beauties. Furthermore, this social phenomenon is getting more prevailing. Most of korean are living in a world that is image obsessed. In other words, Lookism.\n",
      "\n",
      "Even if we can’t afford to get much money to pay for those investments in beauties, we have been willing to spend a lot of money on beauty cares, cosmetics, buying brand new items, and plastic surgeries by putting it on one’s credit cards by long-term installments. Also Korean children as young as 10 are ready targets for the plastic surgery surgeons.\n",
      "\n",
      "In a single way, I agree with that it’s the best way for someone to improve his or her appearance is ‘Plastic surgery’. Because we have watched many examples even around us that someone who had plastic surgery became more beautiful or handsome than before. So, It proves that the surgery is the most effective way to change one’s appearances.\n",
      "\n",
      "However, If someone give me million dollars saying get any plastic surgeries anything you want like liposuction, face-lift, double eyelid surgery and so on. I’ll definitely reject his or her recommendation. It’s unnatural and dosen’t look good with aging.\n",
      "I think most of Korean people usually struggle with watching their weight. Because to stay thin is competitive in getting a variety of chances.\n",
      "\n",
      "Have you ever heard about the ‘Lookism’? It is a new word that judging a person by only his or her appearance and the following discriminations by how he or she looks. Koreans are indulged in severe lookism nowadays. \n",
      "If a person who is handsome or pretty, they can easily take an opportunity in getting a job, making a partner, doing part time work and so on. \n",
      "\n",
      "What a shame to mention it, statistically Korean has maintained the top rank in the world by showing the highest number of plastic surgery. Some people get liposuction which is one of the cosmetic surgery to be thin, others take a pill to lose weight, the others skip meals. Once, eating 1 meal a day diet gained huge popularity. \n",
      "\n",
      "Korean people restraint their appetite not to eat their favorite, high calorie food. Thus, they get lots of stresses by watching their weight. And significant number of them binge on food and get more weight because of the stresses. This is a vicious circle.\n",
      "Honestly, jumping to the conclusion, Korean people are eating less healthy, probably the junk food, than we used to.\n",
      "\n",
      "We have been known to eat slow food like rice, soup and vegetables like kimchi which are called as ‘healthy food’ However, If we look into our eating habits nowadays, we can easily notice that there’re a lot of people who are eating sandwich meal sitting at the Macdonal’s at lunch time. \n",
      "\n",
      "I think there’re two reasons why It’s so natural for us to eat the fast food, in other way unhealthy food, in the meal time. \n",
      "\n",
      "First of all, from 1970s, in order to develop Korean society, we redeemed western country especially USA as our model and has been pursued almost everything including their clothing, food, industry, technology, economical system, education and so on. \n",
      "Thus, our society has been exposed to the western culture for over 40 years and now many things are in common between USA and Korea. The food culture is not an exception. \n",
      "\n",
      "Secondly, these days Koreans who are surrounded by severe and continuous competitions and we have to struggle with our lives to survive. So, new social tendency that we try to save our time on dining and do more work to get more money instead. \n",
      "Therefore, we have been looking for fast food like sandwich meal (burger and chips), ramen noodle, bread, or chocolate like sweets. More worse is some people skip their meals for the reason that they’re so busy that they can’t eat or they try to save more money by not spending on their eating. \n",
      "In my opinion, It’s not just a part of Korean new trend but also a kind of social problem.\n",
      "\n",
      "I’m really worried about Korean people’s healthy. There’re lots of people who are suffering from digest problems, stomachache, diarrhea, and even cancer related to unbalanced nutrition harmful ingredients.\n",
      "We should avoid to eat unhealthy food and follow the way we ate in the past to be healthy.\n",
      "In my opinion, there’re two major factors.\n",
      "First, gender discriminations make preference for colors.\n",
      "For the long time, Preference for male offsprings has prevailed in Korean society. Before being an adolescent, there aren’t noticeable physical differences between boy and girl. So, the adults has classified the young offsprings by different colors. Blue was considered boy’s color and Pink was considered girl’s color. So their parents bought blue items for sons and pink items for daughters from T-shirt, pants, pencil case, backpack to shoes. In addition, boy who is carrying a pink backpack was ridiculed by his friends. Eventually, boys have preferred blue color and girl have favored pink color.\n",
      "Second, people’s expectations make preference for colors.\n",
      " In my case, my favorite color is black. There’re three reasons why I’m crazy about this color. First, when I put on black clothes, it looks as if I lose weight so, my body shape is shown greater than real. Second, black is considered as the most common suit color because it make people who were black suit look tidy and formal so, when I wear black skirt and blazer, I feel like I’m an office worker. Third, when I black dress with black high heels then, my friend often tell me “you look hot today.” I don’t know the exact scientific reasons, but I’m definitely sure that black color is redeemed sexy color. By wearing black cloth, I could be seen thin, formal, and sexy. This reflects my expectations.\n",
      "Children are likely to repeat what adults say and copy what adults do. They don’t have a sense of right or wrong and unable to predict the result from their conduct. \n",
      "I think the most irresponsible behavior of parent's is that to allow their child to see violent or sensational media through the internet, magazines, TV, movies, etc. We should not allow the children to watch violent and sensational medias. Even adults could be affected by the violent and sensational medias. \n",
      "For example, you may know what made 'Heath Andrew Ledger' who is well known for Jocker in <Batman begins> to suicide himself. \n",
      "He had studied on how the Jocker say, act and kill someone and he even didn’t get out from his room for 6 weeks. He was emotionally not stable because he was already considered himself as the Jocker and didn’t want to admit the fact that. So He took antidepressants and tranquilizers and finally addicted to the drugs. Thus, he draw the tragic conclusion. Then, what if let children who don’t have rational judgment yet see the same movies?\n",
      "I found painting is the most interesting art. Especially, I'm crazy about painting in fresco. Because once, it is painted in fresco then it could be conserved over centuries. Last summer vacation, I went to Italy for 10 nights and 11 days for backpaking with my friends. I visited Batican museum which is considered to be one of the top three museums in the world. I had to wait over two hours under the strong sun to get in there. I was tired of standing outdoors without anything. However, when I entered the Cathedral of Sistine and faced with the world-famous painting, Michelangelo's painting on the ceiling which has a nickname of 'Creation', I was fascinated by the huge master's pieces, I couldn't take my eyes off the painting. Actually, I went there with guided tour and the guide told us that it has been over 500 years but, It's still preserved without major damage. It was unbelievable!! the color of the painting was vivid, the sketch was well-defined and I could see expressions clearly. It was unbelievable how this painting painted nearly 500 years ago could not be changed. I thought I'm looking at the master peice right after Michelangelo finished the painting. I fall in love with Mihelangelo, and now I'm big fan of paintings in fresco.\n",
      "I think people are born with artistic talent rather than it is developed through years of training, practice, and hard work. Because I'm studying biology, there're some reliable scientific evidences. First, People who are left-handers, then they're more likely to have talents in art, music, and physical training. the world genious artists, Betveen, Michelangelo, Lernardo Da Vinchi were also left-handers. Brain is devided into two hemispheres, one is Left-hemisphere the other is Right-hemisphere. the brain parts control each half of  the body. Right hemisphere is related with art, music, and physical abilities and regulate the body on the left side. Second, It is genetical problem. If mother is violinist and father is pianist then, their offsprings would be more likely to have artistic talents and get a high possibility to be a member of the ochestra like ther parents. If there're many people who have similar or same job within a family then, it is mostly due to their inferitance, genetical information.\n",
      "Yes, I had a problem with my laptop. It has been around 5 years since I bought this laptop. Two years ago, one day, I felt asleep while taking a online lecture at night and after that day, I found my computer doesn't work at all. I tried to turn my compter on several times bue I've faild. I could only fact with blue screen with few sentences of warning messages. I was embarrassed so that I searched for what happened to my laptop and how to solve this problem. Finally, I realized that I couldn't fix it alone. I'd rather call the repair person instead. So, I contact with the A/S center which is belonged to my laptop brand. About 20 minutes later, the repair person told me \"You will never safe your C-Drive. All datas in your C-Drive have gone.\" My problem was that I used to use my computer for long times without turning off so it have been heated a lot. Eventually, It burned out during yesterday night\" So, I had to buy new one. It costed over 100,000 won. I was so sad for that I lost all of my datas in there not for paying for that worth of money. After the experience, I regularlly back-up my data into D-Drive and turn off my computer after I use.\n",
      "Yes, I’ve worried about using the Internet. Internet is a broad network which connects the whole world. It has a lot of advantages however, it has many disadvantages as well. There’ has been continued digital crimes to withdraw some money through the Internet from any online users who leaved their private profiles on the Internet. The criminal install computer viruses into URL address and send a text messages with the URL link to their targets and make them click and access to the Internet through the URL. Then, some or huge amount of money automatically would be out of their accounts.  I have watched many victims around me. The criminals, in other words, hackers are getting more intelligent than we thought. We shouldn’t overlook their criminal intentions and watch out the text messages with URL link from unknown persons. Above all, We should change our password on the regular bases. Organize which Internet sites you’ve joined and keep use it only if you think the site is safe and widely used. You should protect your profiles, information, data from any hackers or criminals who are spread in the world wide web.\n",
      "If a cashier gave me too much change, I would say and give it back to him of course or not, I definitely won't flee from feeling guilty for the long time and have to pray to God for forgiving my sin.\n",
      "Meanwhile, If the amount were quite little then, it might be confusing. I would consider whether to keep it or not. However, when I look back the similar experiences in my life, mostly I gave it back to the clerk. Except for this situation that I didn't realized that the cashier gave me much more change until I got back home.\n",
      "My values are almost as same as with from my parents. My parents had run private institute where preschool and elementary school students could learn Math, English, Korean, and the other activities for 10 years, my father was principal and mother was vice principal. So, they taught me to study hard and be a good example to other students because I was the principal's daughter and everyone knew that. Under that surroundings, I think my parents tried to teach me following values. \"Do your best at whatever you do\", \"Make your own dream and let the dreams come true step by step by voluntarily finding what is needed for\", \"Not the money but happiness is the most important thing in your life.\" I agree with their lessons and I'm still doing my effort to find the answers.\n",
      "It's not polite to ask about someone's weight. In the case of women, they sensitive about weight more than men. And the majority of women want to become more slender. Becase the media shows us many stars, and we see them. They are thin, severely. But, we hope like them. So, we diet the purpose of beauty, not for health. It is difficult and hard. Sometimes, although it spoils our health, women keep going diet. Therefore, to ask someone's weight is rude. Especially women, in Korea.\n",
      "I was thrilled the T-express. T-express is Roller-coaster and there is in Everland. This roller coaster was completed in 2008. It consists of wooden, and it is the fastest roller coaster in Korea. I was rode it 3 years ago, with University friends. When I was rode it, I was surprised..! It was very thrilling! While diffierent roller coaster was short, it was very long-time. and it was very fast, so I was thrilled it. Eventually I and my friends was rode it 8 times, in spite of long wait-time. And we were became familiar the staff. We was enjoyed it!  And now, I hope to ride it one more time\n",
      "I think my best movie is Avatar. The film is reaches million viewrs. This case is very special, because million viewer is first time in Korea. From now on, let's see why did the film waw sucessful? First of all, this movie has excellent visual effect. This effect is made us thrilling and interestind. Second, \"Avatar\" has perfect story. It is give us moral. We should not be harm, we have to protect nature. Last, we feel love. Although human and Navit ribe are very different, they transcend their difference from love. For these reasons, I think my best movie is \"Avatar\".\n",
      "Children should not allowed to watch violent movies. The media shows to children violence. For example, actors fight someone or smoke. Children watch it and think that it is so nice and strong. Children tend to copy something to nice or strong. Because their age is want to look great. Although TV programs or movies are controlled admission age, they can watch it easily. Because nobody allow to them. In reality, the first age of smoking is yonger increasingly. It is big problem in these society. So, children should not watch violent movies.\n",
      "If I were the manager of hotel, I always offered to customers clean room.First of all, I think that the hotel is became always clean. So, manager of hotel checks state of clean. Second, the hotel will offer Free-Internet service. Because, these days people express themselves by SNS like Facebook and Instagram. Of course, I utilize it, and it communicates around the world. and when they travel that they found the infomation from the Internet. Anoter thing that the hotel offered to them pool and sauna. They were so tired. Because the walked all day. So, they needed rest place.\n",
      "I think that the most important factors are free Internet service, and pool and sauna. Because first of all, most peolpe used to hotel while travel, for rest. To travel is good memory, but it is disappear our brain. So, people take a picture. because the picture is remain forever. And thesedays, SNS is pogress. Peple around the world, upload picture their SNS like Facebook or Instagram. I also use it. It is good what sharing emotion with friends.\n",
      "Second, The reason is that pool and sauna needed, it helps ours, for rest. Because of people are should go next schedule.\n",
      "I think the most driving behaviors are vibration. Because car was convenience, but severe wobble is caused vomit. Some people feel vomit when car was shaked severely. There are the semicircular canals in our ears. It is in charge our balance in body. But, when it breaks, we feel disgusted. I also feel this symptoms. So, I expeirenced to vomit in bus. I was really embarrassed, and I feel depreesed. so I was really hate which severe wobble drive.\n",
      "Thesedays, I think that most drivers are bad drivers. Because many drivers did lane changes, illegal parking, ignore the signal. First, lane chages are not only traffic jam but also in danger many people. Because indiscreet lane chages can amuse vehicle in differnt lane. It is caused collision accident. Second, illegal parking is hindered different vehicle. A busy man can't start because illegal parking car. Finally, ignore the signal is very danger. Some people ignore the signal, somebody meet with an accident, it is tragedy. But, thesedays, there are many bad drivers.\n",
      "I often use persnal care and beauty products. Because I like care myself. It was funny. Especially I enjoy make my nails. It is art of nails. After doing it, I satisfied when I see my nais. And, I care my facials. But, it was must do. Before bedtime I always take a water cream on my face. Otherwise, my face is crack like drought. It was spoiled my emotion all day. So, it was essential. These reasons are I care myself.\n",
      "During small talk, we should avoid some topics. First of all, we should not ask about someone's private information such as age, height, and weight. Also, it is better to not to talk about family, religion, and marriage. Most people do not want to talk about their private information during small talk. if you ask private things to someone, it would be considered rude and the person may not want to talk about the things, Furthermore, we should not ask how much they make. I think it would be very rude if people ask someone else's salary. In order to have a great small talk, people should be careful to ask private things and try to avoid the topics.\n"
     ]
    }
   ],
   "source": [
    "text_female = balanced_answer_byGender.get('Female (Woman) 여','')\n",
    "print(text_female)"
   ]
  },
  {
   "cell_type": "code",
   "execution_count": 108,
   "id": "7a34866e",
   "metadata": {},
   "outputs": [
    {
     "name": "stdout",
     "output_type": "stream",
     "text": [
      "In Korea when people small talk to each other they have to avoid talking about other's salary. because they think he or she wants to classify me as salary. That must be rude people think. Also people do not quest weight especially in case they are girls. korea women want to hide her secret and man have responsibillity to hide her secret. That's the korea manner even though another country's manner is. Finally professional questions have to be avoided when small talking to each other. because that's required specaility knowledge, so that each talker have burden can not lead the communication.\n",
      "I have ever been to austraila in a month. In there i experienced in sky diving that is very frightening to me. During about one minute, i was free flying and then about 2minutes parachute help me to fly in the sky. Especially, at the time before the jump in airplane, i was so thrilling and frightenig. It was very challenging experience to me in my life. Because this jumping experience give me courage even if i get various burdens discouraging me i can overcome that. Therefore i think i'm very proud of myself i didn't give up sky flying.\n",
      "The 'sin sae gye' is the best movie i've ever seen in my life. Because of two actors hwang jum min, jung woo sung who is the best actor in korea realistic acting, i was fascinated in that movie. This movie's subject is that mr.Jung who is policeman cooperate with mr.hwang for arresting his corporation however he occupy the chariman eventually. I was realized that human's opportinism can be appeared whenever. Anyway rather than the subject i like their acting though.\n",
      "I think if children are allowed to watch violent, they can take violence as a matter of course natullary. That is dangerous from the point of view of society because the rate of criming will be increased more and more. Besides, the children allowed to watch violent are might be confused whether violence is bad or good. I think children have to watch educational, instuctive, program so that they can be lived uprightly. It is important to allowe children what they can watch. They choose the way how to live through what they see. Therefore children have to be not allowed to watch violent movies.\n",
      "If i am the manager of a hotel, i will have wake up service, laundry service, mini bar service. First, wake up service is important to business mans absolutely. Because a number of guests visiting a hotel are occupied. Therefore wake up service must to be had to the hotel. Second, laundry service is basic part of hotel service. Because near the hotel there's no laundry it have to be provided to guests. Finally, mini bar service is important thing economically. Commonly, some juices, cocktails provided by hotel are more expensive than market's ones it can increase not only hotel's profits but also pleasure of guests.\n",
      "When i choose the hotel i will check on the mini-bar service at first.Because i want to enjoy drinking at night in the my room. I like to drink some archole.   Second i will check on the laundry service. Because i want to clean the cloths for tomorrow schedules. If my clothes get strained, i have to find laundry, but i know the possible to find laundry will be low. Third is room-service. Because i want to eat for dinner made by hotel's major chef in my room comfortably. I think Room service is essential factor of hotel. If room service is no there, that is not hotel but motel. And the greatest of them is mini-bar service.\n",
      "Changing driving line without turnig on a direction indicator, is most aggressive driving behavior. Because that's the rude action in driving. If i'm in the situation, i will drive with horn and mutter \"what the fuck\". It is serious situation because it can cause revenge driving to them. That would be finished by a terrible traffic accident. If you want to change your driving line, turn on a direction indicator or give driver driving behind you sign by shaking hand to direction you want i will change the line soon. It is important manner for making better life of driving culture and preventing against car accident.\n",
      "Recently most drivers in my city are good because of advertisement of developing manner of driving. However some others are bad drivers. Especially, bus drivers in big city drive the bus extremely so that it can cause from small car accident to big accident. Nonsan i have been living is small city in the korea. In nonsan most drivers are relaxable and good. Because there are little cars on the way in nonsan so they can drive easilly they don't need to drive extremly but they also don't observe the rule of traffic. because there are little person and cars. It is very dangerous thing to people living there.\n",
      "I have used BB cream  effecting my skin white and bling ling. And i usually have used sunscream because my skin can be dark easlily so i have to propect my skin from ultlaviolet. I want to be white skin but i can't be. I have no beauty care product because i am a man. Man usually use not many beauty care product. But recently many things of man's beauty products is supplying in the market. So i am interesting about beauty care products for man. I will buy about man's beauty products.\n",
      "My weapon improving my appearance is a hair style. Hair styled by wax bring someone feel so fascinated by looking me. Therefore i always have been careful when i'm styling my hair because i don't want to hurt girls falling in love to me. Dandy style is my strong weapon to improve my appearance. Nobody girls will not be able to reject my attraction when they look at me. Second, perfume improve my appearance. I know it will not improve my appearance directly but i assure that it will influence them judging me affirmatively. The sense of nose is important thing about judging people.\n",
      "In Korea, lt's not polite to ask about someone's height and someone's weight. Becaus Koreans think that appearance of a person is important. So You have to avoid this topics in Korea. And In business, it's considered rude to ask about someone's age. Because I think that If people  judge others by the ages, you'll miss the other traits. In others, it's not polite to ask about someone's salary. Because you judge other's jobs by the salary.  It's rude in our culture.\n",
      "I Like the thrill. Expecially I like to go an amusement park. I go twice per month.  Do you know Everland? Everland is Korea amusement park . Everland is located in Gyeonggi-do youngin. Everland tikets are not cheap but I'm annual member So I can use the cheaper. I like Everland 'T-Express'. T-Express is kind of roller coaster. I think that T -Express is a wooden roller coaster at Everland. It is the world's ninth fastest, fourth tallest, and sixth longest wooden coaster. But waiting time is long. Maybe 1~2 hour so you have to make a reservation.\n",
      "I like to watch movies at home. movie tickets are expensive. So I usually watch movies at home. I really like thiller movies. I almost saw all of the Korea thiller movies. I like 'The Chaser' that Korea title is '추격자'. I have ever seen this movie twice. 'The Chaser' is a 2008 South Korean movie that starring Kim Yoon-seok and Ha Jung-woo. The Chaser's story is inspired by real-life Korean serial killer Yoo Young-chul. This movie is dramatic and exciting. I recommed you this movie.\n",
      "In my opinion children shouldn't watch violent movies. Because violent movies are not good for children. The violent movies are brutal and bloody. Violent movies make children more accepting of violence. Children are still young so they will follow violent movies and they have aggressive thoughts, emotions and behavior. For example they will fight with friends and play with fire. It is very dangerous. They might get hurt and even die. I think If you are over 19-year-old you can see violent movies. Recently It is easy to access vioient movies because of development of Internet so parents should pay attention to their children.\n",
      "I think Wake-up service is important. Because If you oversleep, you can miss a tour. And babysitting service is very important for family. This service gives the freedom to parents. Free airport shuttle is a necessary service. It is convenient service. Because tourists sometimes lose their way. Free Internet service is essential. You can find information about tour and make a reservation.These days, There is global world. Multilingual staffs are important. Clerks can come from all country so  Multilingual staffs serve translation service.\n",
      "Hotel's charges are important to me. Because I am a student now. I don't have a fixed income. So If I will stay at a hotel, for the first time, it is considered. And location is important too. I think that the most important factor is location. If Hotel is near to shoppong areas, train stations. It is convenient. And I think reviews are important. When I choosing a hotel, online reviews affect me. Because reviewers have stayed a hotel before. Therefore reviews are reliable. I can believe it. Finally Facilities and services  are important. I think that 24-hour room service and Free airport shuttle are necessary. And Free Internet service is important. While I am  traverling, I always use a Internet so I have to choose a hotel that has a Wi-Fi service without extra charge.\n",
      "I like to drive a car. But some drivers make me crazy. Expecially Bus drivers and Taxi drivers are very aggressively. Thay block the line. They do not yield. While driving, I see many bus drivers who lack patience for other cars who want to change lanes. so they are often swerving from lane to lane. It is very dangerous. It cause car accident. and some woman drivers and some sunday driver are irritate me. They lack experience as a driver. I try to understand them. But some woman drivers have no common sense. They orten neglect traffic signal. They are road hog. In Korea driving test is very easy. so It is easy to get a driver's license. I think It is wrong. I think driving test is become more difficult. Because Ii is related to life.\n",
      "I think most drivers in my city are bad drivers. Especially my apartment residents are bad drivers. My apartment's parking space is narrow so I have to be careful. One day, In the morning I went to the my car by the way my car was blocked by other cars. I was so embarrassed. I trid to find car owner's phone number but I didn't find phone number. I was so angry. \n",
      "So I asked for my apartment's security guard. We trid to find a car owner. We tried for 30minutes. and We broadcasted across the my apartment. \n",
      "Finally A car owner came out. but her attitude makes me more angry. She never said to sorry. She had an attitude of arrogance. I protest about her parked car. In the end  She apologized. But I stay angry. It is a terrible memory.\n",
      "Everyday I use a razor in the morning. My beard grows quickly. When I shaving I always use shaving cream. I use aftershave too. Because I have a delicate skin. Aftershave is a product that soothes and moisturizes. and I often use deodorant. Because In the summer I sweat under the arms. I sweat a lot in the summer. So I don't like summer. and I don't like sunshine. I use sunscreen that protect sunshine. And Everyday I use hairspray.  If I don't use hairspray my hair style is very strange.\n",
      "I think that appearance is important. So many Korean want to be pretty girl or handsome guy. I think that diet is one way.  Many people go on diets. Sometimes they even go on a harsh diet to lose weight.  Because diet makes a well-shaped face and body. I think that diet and exercise are best way to improve someone's appearance. Because It is safest way. Another way is cosmetic surgery.Many Korean want to undergo cosmetic surgery. Expecially Many girls and teenagers want to undergo cosmetic surgery to look more pretty. Indeed, Koreans are so cosmetic-surgery crazy, they try to fix everything on their faces. but I don't like this way because It is dangerous. Cosmetic surgery is for shallow and closed-minded people who think appearance are everything.  Is cosmetic surgery or extreme diet a pathwat to happiness? I think that inner beauty is imprtant.\n",
      "1. Talking too personal things.\n",
      " - It is better to avoid small talk too much personal things, such as someone's height, weight, adresss, income, grade, and so on.\n",
      "\n",
      "2. Political topics\n",
      " - Korean people easily get in to fight when they talk about their own political view or sight. Even though they are good friend. So It would be better to avoid  political topics. among friend.\n",
      "\n",
      "3. About get a job, get a married.\n",
      " - It would better not talk about getting a jobs, to the people who are trying to get a job. And It would better not talk about getting a married to the people who are so called 'Gold Miss' and 'Gold Mr'\n",
      "1. Going to abroad\n",
      "I have been to America when I was young(9years old) and I still can’t forget it. Everyone speaks their languages and everyone eat their foods. To a young boy, it made me to realized that there is more world I never been to and where I should go and learn. \n",
      "\n",
      "2. 2 years in the military\n",
      "Every Korean men must join the military service. I was in K.S.R(Korea Special Reconnaissance) and I had a lot of thrilling training in there. The most thrilling moments I had were helicopter rappel and 420km(262mile) overnight marching for 6 days.\n",
      "\n",
      "above 2 things my thriling or frightening actions.\n",
      "Fever Pitch(2005)\n",
      " This film is about a love story between carrer woman Lindsey(Drew Barrymore) and Ben(Jimmy fallon) who crazy about baseball. Drew Barrymore plays in the film as a lovely women who name is Lindsey. She thought she finally met a perfect guy in her whole life. Ben is a big fan of Boston Red Sox. All his schedule and all his mind is focus on baseball. He even breaks the appointments with Lindsey because of baseball games.\n",
      " I've seen this film over 10 times after it has released in 2005.bNot only it has funny scenes for baseball fans but women who does not know about baseball at all can watch and have an interest.\n",
      "It perfectly has something in common between love and baseball even though it doesn't look like.\n",
      "We should not let childeren to watch violence things for sure. they can imitiate same things without any bad intention. because children are very pure. When I young, older people always said 'you can't watch any violent movies. But nowadays many older people doesn't resist their children. Thesedays children are able to watch violent or adult stuffs easily by internet,ip- tv and so on. We must see this situation seriously and find solutions for this situation\n",
      "Except hotel services in the rop notch2, I will let all customers use free wiㅡfi service in every single and suite room. When i was travelling in Jordan, i felt difficult in using wiㅡfi in the hotel. And also i will have guides for people from overseas. Korea is such a beautiful country to travel. And i will make Safety boxes in every room to secure customors' belongings. When customer go out side, they put in safty box their valuable belongings.\n",
      "If I am a manager of hotel, i services this 3things.\n",
      "To me, free wifi service is the most important factor when I choosing a hotel.  When i was travelling in Jordan, i felf difficulty in using wifi in the hotel. because I always updated traveling-picture  in my SNS during traveling. That's why i consider free wifi when i choosing a hotel. So I went to hotel, I first ask using free wifi service .\n",
      " And also i consider travel guides for people from overseas.  Many conturies has their own  such a beautiful\n",
      " place to travel. But I can't look around everywhere. So I must need travel-guides.\n",
      "'The bullet taxi' is the most hateful and agressive driving  behavior for me. We have 'the bullet taxi culture' in Korea. The word 'bullet taxies' are derived from taxies drive so fast to pick up more passengers at late night or early morning. They ignore all traffic signs, rules, and drive manners. I had experienced the bullet taxi and i almost had a car accident, because the taxi went mad.\n",
      " So we'd better drive...No! We must drive with a good driving manner\n",
      "Half and half I think. I usually taked taxi in my city. Most of the taxi which i used had agressive driving behaviors like speeding, traffic signal violation, honking the horn to woman, didn't wear seat-belt, etc.\n",
      " But there are many good drivers in my city also. many drivers considerate each other, When good drivers stopped at an intersection, they fell their headlight or turned off their headlight for Opposite side driver. And good drivers thinks of pedestrians as priority. Like this in my city, there are half good drivers and half bad drivers.\n",
      "1.Sunscreen\n",
      "I always put sunscreen on my face, neck and arms. Sunscreen blocks ultraviolet rays and lots of reasearches say it's an antoxident(no longer aging) . That's why i put on sunscreen everyday.\n",
      " 2. Skin lotion and cream\n",
      "I read the article few dats ago says Korean men use skin lotion more than any other men in country . I also use them everyday for my skin.\n",
      "1.Steady exercise\n",
      " Stedy exercise makes me better about body,health and appearance. so I go swimming and lift weight with barbells every morning (except sunday.)\n",
      "2. Plastic surgery\n",
      " I think plastic surgery is the best way for someone to improve own appearance. almost people who had plastc surgery more confident after they have plastic surgery. Even though that surgery can be dangerous, it is especially popular with young women in Korea\n",
      "I can't write English very well. please understand that.. This topic was learn. Avoid topic in small talk is Relates to privacy. This is the most important. People don't like to be known extreme privacy. For example weight, height, family, salary, sleeping habits etc... I don't like topic about school point. Because my school point is lower. Thus people don't like to be known extreme privacy. Women are more likely to that. Women are very sensitive. They have a lot to hide. Topic should women avoid during \n",
      "small talk is appearance. For example cosmetic surgery, makeup, weight\n",
      "etc... If promise them. we can have a girlfriend.\n",
      "yes. I have done something that was really thrilling or frightening. I was 15 years old. I played soccer with friends. After late night soccer we went out in the park. Then we saw something. It was woman who quickly disappeared. We were so horrible. We looked at all and afraid. I never forget the women. \n",
      "And a month ago I had a certification exam. I did not study hard. So I did not expect. However, i was to pass surprisingly. I was really thrilling. I can be anything in the future. Thank you.^^\n",
      "I love movie. I saw many movie. My best movie is 'The Lord of the Rings'. \n",
      "I have seen 'The Lord of the Rings' with family. This was the first movie in a movie theater. 'The Lord of the Rings' was Spectacle.The main character was brave. So The main character  was a good fight. My best movie. is  Still  'The Lord of the Rings'. \n",
      " My second best movie is 'Harry Potter and the Sorcerer's Stone'. I love fantasy movie. 'Harry Potter and the Sorcerer's Stone' was very wonderful screen. I could not take my eyes off screen. I will continue to love the fantasy movie.\n",
      "I could not watch violent movies. Because mother was afraid. My mom did not see violent films. She hated violence. and She still hate violence. The violent films is critical to education. Children quickly learn anything. For example math, science, sports Etc. So children can learn violence. Therefore She did not see the absolute. But my father love action flims. My dad favorites movie genre is violent action movie genre. But he also can not see violent action movie.\n",
      "Because my mom is a horrible person. Sad dad...\n",
      "If I am Hotel Manager, I will do a lot of service. There are many hotel services.  The most important thing is kindness. Customers are considered important kindness. kindness is very important service. The smile is the most valuable among service. Laughter makes people feel good. The service will be organized. Systematic service satisfied to the customer. These days, customers are very sensitive.  so hotel officials must taken care. nowadays Customer satisfaction is most important.\n",
      "If customer satisfaction is the practice will be revived the hotel. \n",
      "thank you.^^\n",
      "I have not been to hotel. So i don't know hotel services very well. The most important factors for me when choosing a hotel is diversity. diversity is very important for hotel. customers prefer to various hotel services. But looking for various hotel services is very difficult. I like 24 hours room service of hotel services. And my mom likes laundry service of hotel services. And my dad likes full service business center of hotel services. In addition, it is different from a lot of people want hotel services. Variety of hotel services will be best hotel. but Extremely modest hotel will be worst hotel. diversity is best marketing.\n",
      "I don't have a my car. So i have to ride a father car. My driving behavior is safety. I think the most important of driving is safety. Aggressive driving behaviors bother for me is lane change without notice. Lane change have to notice to other drivers. But nowadays many drivers don't noice lane change. Lane change without notice is very dangerous. And also sudden stop is very dangerous. If unavoidable stop have to turn on the emergency lights. But if driver turn off the emergency lights, that will happen accidents. Aggressive driving behaviors are varied. Safety driving will protect you from the risks.\n",
      "Thank you.\n",
      "I live in Incheon. Incheon is a very large city in the korea. So we can see  many drivers. Most drivers enjoy the speed. They sometimes reckless driving. I think that many drivers are bad drivers in Incheon. They have so many cases of accident. Is not serious, But not severe compared to Seoul. Seoul has a really terrible road. I absolutely do not drive on the road in Seoul. because of can not intervene the dense cars. There are many good drivers while the drivers were so bad. They enjoy safe driving and concessions. Compromise is the driver's primary virtue. I hope that All drivers are good drivers in the world. I'll have to practice the concession.\n",
      "thank you.\n",
      "I regularly use personal care and beauty products. I use a daily skin and Essence. I even use the essence of hair. But two years ago, I did not use personal care and beauty products. The reason that I use personal care and beauty products is a girl friend. My girlfriend's sister is Skin Food cosmetics store manager. So I get a lot of free cosmetics from my girlfriend sister. My girlfriend is much interested in my skin. So she gets angry if i do not use cosmetics. She is not angry, I used to personal care and beauty products. My skin is clear, thanks to her and i love my girl friend. Brian, I want to you use Skin Food products. Skin food are very good. hahaha thank you.\n",
      "The best way for someone to improve his or her appearance is exercise.\n",
      "I had been slim before the army. But gain weight rapidly after the soldiers.\n",
      "Increased from 69 to 84 weight. I had a lot of exercise. and I was thin again. Exercise is the most secure and reliable way more then Cosmetic Surgery or Diet. Around a lot of people who have plastic surgery and diet. \n",
      "They almost always the failure or regret. In particular, the failure rate is very high in the diet. Because it is not accompanied by exercise. Exercise is good to see a person's body. And exercise is not betrayal. Not too late to start exercising now. Let's exercise!\n",
      "The topics should be avoided in small-talk, certain annual income and age, and occupation. It is said that the small talk, people who do not know well what it is to talk willingly, but here, if you say that the theme annual income and age, occupation, might be seen a rude behavior it. Also, in dialogue between different cultures, you can find the reason. For example, the East and South Korea can be a hemp on the theme of age. There can appear rude if to the theme of that age do not think the important age in the West area compared to it.\n",
      "I think the most horrible thing I had feared the 21 year old soldier entered the D.M.Z(demilitarized zone). of course, I enjoyed another thrilling something and it was many thing. But anyways it really depends on the idea that this is the first time that my life. I was served a hit areas were in the forefront working boundary, facing the North korea and has jurisdiction over the area. so it is always touch-and-go situation in mind, and went to carry bullets and grenades. scary when put into the DMZ is an area where the land mines are buried. I thought, I can die now. and it's most feared. \n",
      "\n",
      "P.S - sorry. military terms is very difficult. so dictionary and internet was refer\n",
      "I think the movie that is best suited to this question that's Dark Knight . Is a hero movie , beginning with Batman Begins , It is a movie that Heath Ledger and Christian Bale starring director Christopher Nolan was produced. Unlike other heroes with super powers .Bruce Wayne is show up human inner. Also, Joker villain role will continue to drive the evil city of Gotham City in his corruption and pure evil . In addition , to enjoy that wants a corruption  all of the people of Gotham City and Fall of Batman . In addition, the show changed to evil from the good , is a ‘Harvey Dent’ indicates the fall of man . I think why I love is, and whether it is for the perfect performance of Heath Ledger this movie. Harvey Dent and Bruce Wayne were expressed familiar with the inner side of human. Action scenes and Batman's various weapons are offered many attractions.\n",
      "Those children see a violent movie is not appropriate. Because Children will mimic consciously or unconsciously what they see. It followed a good thing, to learn is positive. However, it is highly inappropriate that it would be violent and provocative. For example, suppose you like spicy food. If you eat more often it will find spicy flavor. Others are also not eating spicy food; you will not have any more. To see a violent movie is like a spicy food that was mentioned earlier. That is a violent movie can make children more violent. So I will absolutely opposed to that child to see the movie violent evidence like this\n",
      "If I was the manager of hotel, I will offer individual customized service for guest. Because people want anything fit for themselves For example, People using hotel for the purpose of business need the additional document management and office services. However, But tourists will want to receive travel-related services. If they are businessmen, it is that complex office they need to provide Internet and a free space available. Also, if they are a tourist, they want a wide range of relaxing space such as a spa and sauna and information about tourist destinations. Therefore, I will offer services to fit their purpose.\n",
      "What are the most important factors to select the hotel? In my case, the most important factor is clean and comfortable facility. Of course customer service, delicious food, entertainment also acts as an important factor. The hotel is a high cost compared to the other accommodations is consumed. Also other accommodations provide entertainment and delicious food. So what’s the difference between? It is the high quality relaxation conditions. The hotel room is always kept clean and additional facilities such as a sauna & a pool are providing sufficient relaxation conditions. As a result, the most important factors in my choice are comfort & clean facilities and environment.\n",
      "Firstly, Aggressive driving behaviors include speeding, frequent and unnecessary lane changes, tailgating, and running red or yellow lights. In my case, the thing that bothers me most of these behaviors are a violation of the speed limits and signals. These behaviors cause unsafe situations. Also unnecessary lane changes are dangerous driving behavior. These behaviors cause traffic jam and car accident. But many drivers have the misconception.  It is that these behaviors can leads quickly. This idea is very fault. On the contrary, these behaviors cause very complicated traffic jam. As a result, it will lead to different results, as they wanted\n",
      "There is no actual driving experience, but I saw a lot of driver's not good when i can ride in the car of the other driver, use public transport. Recently depending on the type of the vehicle, and such as to provoke, saw a lot when creating a dangerous situation by unreasonable so that she does go ahead or interrupt. Of course I think good driver too. However, good driver for the driver's poor minority seems to be to have bad driving habits. In addition, traffic jam in the metropolitan area is tremendous. It follows that in busy, people who try to go above with impossible occurs, bad driver appeared here.\n",
      "I didn’t use the personal care and beauty products up to 21 years old. The reason, at that time, I thought that there is no need to think use personal care and beauty products is intended for women only, to be used. However, skin problems occurs Become a 23-year-old, change and the unexpected happening, I started using use personal care and beauty products. Social recognition of the men fix the appearance of their own on behalf of the positive so far, while it is a part of self-management, for other reasons, seems to have decided that I will join. I do not use many products at present, but may be used for the functional cosmetics and cleansing cream. It is also used when a shaving cream did not write to the before shaving.\n",
      "Appearance is very subjective. But most people want to become more beautiful. Today, many people think how to improve their appearance with cosmetic surgery. But plastic surgery and other surgical method was accompanied with high risk and high cost. Also, it can even have to be addictive. For example, we will encounter Michael Jackson and other celebrities. But we already know the best way to improve appearance. The way is the diet and exercise. First, it is safe and lower expense is enough. Second, it is beneficial to health. In this way, which requires the highest thing is your patience. For these reasons, I think is the best way to diet and exercise.\n"
     ]
    }
   ],
   "source": [
    "text_male = balanced_answer_byGender.get('Male (Man) 남','')\n",
    "print(text_male)"
   ]
  },
  {
   "cell_type": "markdown",
   "id": "feb8778b",
   "metadata": {},
   "source": [
    "# Preprocess text"
   ]
  },
  {
   "cell_type": "code",
   "execution_count": 109,
   "id": "3dee9daf",
   "metadata": {},
   "outputs": [],
   "source": [
    "import string\n",
    "\n",
    "def cleaning_text(text):\n",
    "    new_text = \"\"\n",
    "    for char in text:\n",
    "        if char not in string.punctuation:\n",
    "            new_text += char\n",
    "    clean_text = new_text.lower().split()\n",
    "    return clean_text\n",
    " \n",
    "\n",
    "#cleaning_text(text_21011008)\n",
    "#print(f'text_21011008:{remove_punctuation_split(text_21011008)}')\n",
    "\n",
    "#print(f\"Student number: {student_number}\")"
   ]
  },
  {
   "cell_type": "markdown",
   "id": "2dbd088e",
   "metadata": {},
   "source": [
    "# Calculate lexcial profile"
   ]
  },
  {
   "cell_type": "code",
   "execution_count": 110,
   "id": "49108543",
   "metadata": {},
   "outputs": [],
   "source": [
    "def lexical_profile(clean_text):\n",
    "    band1 = []\n",
    "    band2 = []\n",
    "    band3 = []\n",
    "    offlist = []\n",
    "    \n",
    "    if not clean_text:\n",
    "        return 0, 0, 0, 0\n",
    "\n",
    "    for word in clean_text:\n",
    "        if word in band_1k:\n",
    "            band1.append(word)\n",
    "        elif word in band_2k:\n",
    "            band2.append(word)\n",
    "        elif word in band_3k:\n",
    "            band3.append(word)\n",
    "        else:\n",
    "            offlist.append(word)\n",
    "    band1_percentage = len(band1) / len(clean_text) * 100\n",
    "    band2_percentage = len(band2) / len(clean_text) * 100\n",
    "    band3_percentage = len(band3) / len(clean_text) * 100\n",
    "    offlist_percentage = len(offlist) / len(clean_text) * 100\n",
    "\n",
    "    return band1_percentage,band2_percentage,band3_percentage,offlist_percentage\n",
    "\n"
   ]
  },
  {
   "cell_type": "code",
   "execution_count": 112,
   "id": "96cf698b",
   "metadata": {},
   "outputs": [
    {
     "name": "stdout",
     "output_type": "stream",
     "text": [
      "(41.05571847507331, 5.474095796676441, 3.812316715542522, 49.65786901270772)\n",
      "(38.28054298642534, 3.8914027149321266, 3.5294117647058822, 54.29864253393665)\n",
      "(37.365010799136066, 5.831533477321814, 3.3477321814254863, 53.45572354211663)\n",
      "(42.91899441340782, 5.4748603351955305, 3.058659217877095, 48.547486033519554)\n",
      "(39.172518504460044, 5.371038147656101, 3.47314480926172, 51.98329853862212)\n"
     ]
    }
   ],
   "source": [
    "lexical_profile(cleaning_text(text_21011008))\n",
    "lexical_profile(cleaning_text(text_21011016))\n",
    "lexical_profile(cleaning_text(text_21011033))\n",
    "lexical_profile(cleaning_text(text_female))\n",
    "lexical_profile(cleaning_text(text_male))\n",
    "print(lexical_profile(cleaning_text(text_21011008)))\n",
    "print(lexical_profile(cleaning_text(text_21011016)))\n",
    "print(lexical_profile(cleaning_text(text_21011033)))\n",
    "print(lexical_profile(cleaning_text(text_female)))\n",
    "print(lexical_profile(cleaning_text(text_male)))"
   ]
  },
  {
   "cell_type": "markdown",
   "id": "7c0db6f0",
   "metadata": {},
   "source": [
    "# Count the number (percentage) of prepositions"
   ]
  },
  {
   "cell_type": "code",
   "execution_count": 81,
   "id": "1490bc2f",
   "metadata": {},
   "outputs": [],
   "source": [
    "def preps(clean_text):\n",
    "    preps = ['to', 'at', 'for', 'in','on','under','up','into']\n",
    "    prepsInText = []\n",
    "    \n",
    "    for word in clean_text:\n",
    "        if word in preps:\n",
    "            prepsInText.append(word)\n",
    "    prepsInText_percentage = len(prepsInText)/len(clean_text)*100     \n",
    "    return prepsInText_percentage\n",
    "            \n"
   ]
  },
  {
   "cell_type": "code",
   "execution_count": 113,
   "id": "29f0c8d6",
   "metadata": {},
   "outputs": [
    {
     "name": "stdout",
     "output_type": "stream",
     "text": [
      "7.9178885630498534\n",
      "5.610859728506788\n",
      "7.019438444924406\n",
      "6.5083798882681565\n",
      "6.225090149933574\n"
     ]
    }
   ],
   "source": [
    "preps(cleaning_text(text_21011008))\n",
    "preps(cleaning_text(text_21011016))\n",
    "preps(cleaning_text(text_21011033))\n",
    "preps(cleaning_text(text_female))\n",
    "preps(cleaning_text(text_male))\n",
    "print(preps(cleaning_text(text_21011008)))\n",
    "print(preps(cleaning_text(text_21011016)))\n",
    "print(preps(cleaning_text(text_21011033)))\n",
    "print(preps(cleaning_text(text_female)))\n",
    "print(preps(cleaning_text(text_male)))"
   ]
  },
  {
   "cell_type": "markdown",
   "id": "b70ea0e5",
   "metadata": {},
   "source": [
    "# Draw the graph"
   ]
  },
  {
   "cell_type": "code",
   "execution_count": 131,
   "id": "613da6e1",
   "metadata": {},
   "outputs": [
    {
     "data": {
      "image/png": "[encoded data removed]",
      "text/plain": [
       "<Figure size 640x480 with 1 Axes>"
      ]
     },
     "metadata": {},
     "output_type": "display_data"
    }
   ],
   "source": [
    "import matplotlib.pyplot as plt\n",
    "import numpy as np\n",
    "\n",
    "# Sample data for three texts\n",
    "categories = ['Prepositions', '100_band', '200_band', '300_band', 'OffList']\n",
    "text1 = [7.9178885630498534, 41.05571847507331, 5.474095796676441, 3.812316715542522, 49.65786901270772]  # Example percentages for Text 1\n",
    "text2 = [5.610859728506788, 38.28054298642534, 3.8914027149321266, 3.5294117647058822, 54.29864253393665]  # Example percentages for Text 2\n",
    "text3 = [7.019438444924406, 37.365010799136066, 5.831533477321814, 3.3477321814254863, 53.45572354211663]  # Example percentages for Text 3\n",
    "\n",
    "ind = np.arange(len(categories))  # the x locations for the groups\n",
    "width = 0.25  # the width of the bars\n",
    "\n",
    "fig, ax = plt.subplots()\n",
    "rects1 = ax.bar(ind - width, text1, width, label='Text_08')\n",
    "rects2 = ax.bar(ind, text2, width, label='Text_16')\n",
    "rects3 = ax.bar(ind + width, text3, width, label='Text_33')\n",
    "\n",
    "# Add some text for labels, title and custom x-axis tick labels, etc.\n",
    "ax.set_xlabel('Categories')\n",
    "ax.set_ylabel('Percentages')\n",
    "ax.set_title('Normalized Lexical Profile of Three Students')\n",
    "ax.set_xticks(ind)\n",
    "ax.set_xticklabels(categories)\n",
    "ax.legend()\n",
    "\n",
    "\n",
    "fig.tight_layout()\n",
    "\n",
    "plt.show()\n"
   ]
  },
  {
   "cell_type": "code",
   "execution_count": 129,
   "id": "fa5e52f1",
   "metadata": {
    "scrolled": true
   },
   "outputs": [
    {
     "data": {
      "image/png": "[encoded data removed]",
      "text/plain": [
       "<Figure size 640x480 with 1 Axes>"
      ]
     },
     "metadata": {},
     "output_type": "display_data"
    }
   ],
   "source": [
    "# Sample data for three texts\n",
    "categories = ['Prepositions', '100_band', '200_band', '300_band', 'OffList']\n",
    "text1 = [6.5083798882681565, 42.91899441340782, 5.4748603351955305, 3.058659217877095, 48.547486033519554]  \n",
    "text2 = [6.225090149933574, 39.172518504460044, 5.371038147656101, 3.47314480926172, 51.98329853862212]  \n",
    "\n",
    "\n",
    "ind = np.arange(len(categories))  # the x locations for the groups\n",
    "width = 0.25  # the width of the bars\n",
    "\n",
    "fig, ax = plt.subplots()\n",
    "rects1 = ax.bar(ind - width, text1, width, label='Text_female')\n",
    "rects2 = ax.bar(ind, text2, width, label='Text_male')\n",
    "\n",
    "# Add some text for labels, title and custom x-axis tick labels, etc.\n",
    "ax.set_xlabel('Categories')\n",
    "ax.set_ylabel('Percentages')\n",
    "ax.set_title('Normalized Lexical Profile of Gender')\n",
    "ax.set_xticks(ind)\n",
    "ax.set_xticklabels(categories)\n",
    "ax.legend()\n",
    "\n",
    "\n",
    "fig.tight_layout()\n",
    "\n",
    "plt.show()\n"
   ]
  },
  {
   "cell_type": "markdown",
   "id": "1a1eeeb7",
   "metadata": {},
   "source": [
    "# Analysis of Lexical Profiles of Three Students:"
   ]
  },
  {
   "cell_type": "markdown",
   "id": "7adb76ac",
   "metadata": {},
   "source": [
    "Prepositions: Student 1 (7.92%) and student 3 (7.02%) show higher usage of prepositions compared to student 2 (5.61%). This might suggest a more complex sentence structure or a writing style that involves more descriptive or relational statements in student 1 and 3.\n",
    "\n",
    "\n",
    "100_band (High-Frequency Words): Student 1 (41.06%) uses high-frequency words the most, followed closely by Text 3 (37.37%) and Text 2 (38.28%). High-frequency words are typically common in everyday language, and higher percentages may indicate a more straightforward or accessible writing style.\n",
    "\n",
    "\n",
    "200_band (Moderate-Frequency Words): Student 1 also leads slightly in 200_band (5.47%), which may point to a balance in using common words and moderately frequent words to enhance clarity without oversimplifying the language.\n",
    "\n",
    "\n",
    "300_band (Low-Frequency Words): Student 1 (3.81%) uses 300_band words the most, potentially indicating the use of more specialized vocabulary or topics that require specific terminology. Student 3 (3.35%) and Student 2 (3.53%) are quite similar, suggesting moderate use of specialized terms.\n",
    "\n",
    "OffList (Words Not in the Top 300 Bands): Student 2 (54.30%) and Student 3 (53.46%) have notably higher usage of off-list words compared to Student 1 (49.66%). This could imply that Student 2 and 3 either cover more niche subjects or incorporate more unique vocabulary that isn't as frequently used or standardized.\n"
   ]
  },
  {
   "cell_type": "markdown",
   "id": "962bacc4",
   "metadata": {},
   "source": [
    "# Analysis of Lexical Profiles by Gender:"
   ]
  },
  {
   "cell_type": "markdown",
   "id": "57903e95",
   "metadata": {},
   "source": [
    "\n",
    "Female text has a slightly higher percentage of high-frequency words (42.92%) compared to male text (39.17%), and use low-frequency words slightly less(3.06% vs. 3.47%). There's a noticeable difference in the usage of off-list words, with females using fewer off-list words (48.55%) compared to males (51.98%). \n",
    "\n",
    "This might suggest that male texts are slightly more inclined to use specialized or less common terms, which might reflect differences in topics or discourse styles.\n",
    "OffList (Words Not in the Top 300 Bands):\n",
    "\n",
    "The differences in 100_band and OffList categories might suggest differences in topic choices or discourse styles between genders. Males may engage more with niche or specialized topics, while females might discuss more general or widely relatable topics.\n"
   ]
  }
 ],
 "metadata": {
  "kernelspec": {
   "display_name": "Python 3 (ipykernel)",
   "language": "python",
   "name": "python3"
  },
  "language_info": {
   "codemirror_mode": {
    "name": "ipython",
    "version": 3
   },
   "file_extension": ".py",
   "mimetype": "text/x-python",
   "name": "python",
   "nbconvert_exporter": "python",
   "pygments_lexer": "ipython3",
   "version": "3.11.4"
  }
 },
 "nbformat": 4,
 "nbformat_minor": 5
}
